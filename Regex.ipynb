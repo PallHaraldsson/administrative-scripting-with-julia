{
 "cells": [
  {
   "cell_type": "markdown",
   "metadata": {},
   "source": [
    "# String Filtering and Manipulation (with regex and otherwise)\n",
    "\n",
    "This section is primarily for those used to writing shell scripts who want to do similar kinds of string jobs as one does with coreutils. If you're used to string manipulation in other programming languages, Julia will not be dramatically different, but you may still want to read a little just to see how the basics look.\n",
    "\n",
    "Note on regex dialects that I originally wrote for the the [Python tutorial](https://github.com/ninjaaron/replacing-bash-scripting-with-python):\n",
    "\n",
    "> One thing to be aware of is that Python's regex is more like PCRE (Perl-style -- also similar to Ruby, JavaScript, etc.) than BRE or ERE that most shell utilities support. If you mostly do sed or grep without the -E option, you may want to look at the rules for Python regex (BRE is the regex dialect you know). If you're used to writing regex for awk or egrep (ERE), Python regex is more or less a superset of what you know. You still may want to look at the documentation for some of the more advanced things you can do. If you know regex from either vi/Vim or Emacs, they both use their own dialect of regex, but they are supersets of BRE, and Python's regex will have some major differences.\n",
    "\n",
    "This is also true for Julia, except that Julia's regex isn't \"like\" PCRE, it uses the actual PCRE library. The canonical resource on this dialect of regex is the [Perl regex manpage](http://perldoc.perl.org/perlre.html), but note that, while Perl generally places regexes between slashes (`/a regex/`), Julia regex literals look like this: `r\"a regex\"`. Also be aware that julia doesn't have the same kinds of operators for dealing with regexes, like =~, s, m, etc. Instead, normal functions are used with regex literals, as in JavaScript and Ruby.\n",
    "\n",
    "## how to `grep`\n",
    "\n",
    "If you want to check if a substring occurs in a string, julia has a function called `occursin` for that."
   ]
  },
  {
   "cell_type": "code",
   "execution_count": 2,
   "metadata": {},
   "outputs": [
    {
     "data": {
      "text/plain": [
       "true"
      ]
     },
     "execution_count": 2,
     "metadata": {},
     "output_type": "execute_result"
    }
   ],
   "source": [
    "occursin(\"substring\", \"string containing substring\")"
   ]
  },
  {
   "cell_type": "markdown",
   "metadata": {},
   "source": [
    "As with most functions dealing with substrings in Julia, `occursin` can also be used with regular expressions."
   ]
  },
  {
   "cell_type": "code",
   "execution_count": 3,
   "metadata": {},
   "outputs": [
    {
     "data": {
      "text/plain": [
       "true"
      ]
     },
     "execution_count": 3,
     "metadata": {},
     "output_type": "execute_result"
    }
   ],
   "source": [
    "occursin(r\"\\w the pattern\", \"string containing the pattern\")"
   ]
  },
  {
   "cell_type": "markdown",
   "metadata": {},
   "source": [
    "So let's get a long array of strings to grep."
   ]
  },
  {
   "cell_type": "code",
   "execution_count": 7,
   "metadata": {},
   "outputs": [
    {
     "data": {
      "text/plain": [
       "180-element Array{SubString{String},1}:\n",
       " \".\"                                                       \n",
       " \"./.gitignore\"                                            \n",
       " \"./.ipynb_checkpoints\"                                    \n",
       " \"./.ipynb_checkpoints/processes-checkpoint.ipynb\"         \n",
       " \"./.ipynb_checkpoints/Regex-checkpoint.ipynb\"             \n",
       " \"./.ipynb_checkpoints/files-checkpoint.ipynb\"             \n",
       " \"./.ipynb_checkpoints/CLI-checkpoint.ipynb\"               \n",
       " \"./.git\"                                                  \n",
       " \"./.git/info\"                                             \n",
       " \"./.git/info/exclude\"                                     \n",
       " \"./.git/COMMIT_EDITMSG\"                                   \n",
       " \"./.git/hooks\"                                            \n",
       " \"./.git/hooks/pre-commit.sample\"                          \n",
       " ⋮                                                         \n",
       " \"./.git/objects/81\"                                       \n",
       " \"./.git/objects/81/60dad2f73025ce91ab7ad9fb75e501f1bf15e2\"\n",
       " \"./.git/objects/4c\"                                       \n",
       " \"./.git/objects/4c/c736cc4785b2050e9c86f18714175f97d3c239\"\n",
       " \"./.git/config\"                                           \n",
       " \"./CLI.ipynb\"                                             \n",
       " \"./README.rst\"                                            \n",
       " \"./processes.ipynb\"                                       \n",
       " \"./Regex.ipynb\"                                           \n",
       " \"./files.ipynb\"                                           \n",
       " \"./filesystem.ipynb\"                                      \n",
       " \"\"                                                        "
      ]
     },
     "execution_count": 7,
     "metadata": {},
     "output_type": "execute_result"
    }
   ],
   "source": [
    "filenames = split(read(`find -print0`, String), '\\0')"
   ]
  },
  {
   "cell_type": "markdown",
   "metadata": {},
   "source": [
    "> Note 1: You wouldn't normally use `find` in a Julia script. You'd be more likely to use the `walkdir` function, documented [here](https://docs.julialang.org/en/v1/base/file/#Base.Filesystem.walkdir).\n",
    ">\n",
    "> Note 2: the reason this is isn't just ```readlines(`find`)``` is that POSIX filenames can contain newlines. Isn't that horrible? `-print0` uses the null byte to separate characters, rather than a newline to avoid exactly this problem, since it's the only byte that is forbidden in a filename.\n",
    "\n",
    "So, let's try to match some git hashes that have four adjecent letters."
   ]
  },
  {
   "cell_type": "code",
   "execution_count": 15,
   "metadata": {},
   "outputs": [
    {
     "data": {
      "text/plain": [
       "7-element Array{SubString{String},1}:\n",
       " \"./.git/objects/d0/0db2ebda0b296f6f08e54ad06f3102e7abdec6\"\n",
       " \"./.git/objects/9c/f63bd3bbeea6c067d1e08f762acce5ac8adfe0\"\n",
       " \"./.git/objects/33/c9b993c55a75a2424acae6f1bcc5dcbf1f1ef7\"\n",
       " \"./.git/objects/1c/3c450edb480db60f6c949adf0b5dccdaebfc64\"\n",
       " \"./.git/objects/68/0c692e7095ecab805f649885ccc0e32c63ae1b\"\n",
       " \"./.git/objects/92/1cab47e3aafe6adab84ffdd9b06a16c34fa2e0\"\n",
       " \"./.git/objects/b8/2403b2c7d4f507c4debdb47b46fb3754a3085c\""
      ]
     },
     "execution_count": 15,
     "metadata": {},
     "output_type": "execute_result"
    }
   ],
   "source": [
    "filter(s->occursin(r\".git/objects/.*[abcde]{4}\", s), filenames)"
   ]
  },
  {
   "cell_type": "code",
   "execution_count": 18,
   "metadata": {},
   "outputs": [
    {
     "data": {
      "text/plain": [
       "7-element Array{SubString{String},1}:\n",
       " \"./.git/objects/d0/0db2ebda0b296f6f08e54ad06f3102e7abdec6\"\n",
       " \"./.git/objects/9c/f63bd3bbeea6c067d1e08f762acce5ac8adfe0\"\n",
       " \"./.git/objects/33/c9b993c55a75a2424acae6f1bcc5dcbf1f1ef7\"\n",
       " \"./.git/objects/1c/3c450edb480db60f6c949adf0b5dccdaebfc64\"\n",
       " \"./.git/objects/68/0c692e7095ecab805f649885ccc0e32c63ae1b\"\n",
       " \"./.git/objects/92/1cab47e3aafe6adab84ffdd9b06a16c34fa2e0\"\n",
       " \"./.git/objects/b8/2403b2c7d4f507c4debdb47b46fb3754a3085c\""
      ]
     },
     "execution_count": 18,
     "metadata": {},
     "output_type": "execute_result"
    }
   ],
   "source": [
    "# this can also be done with comprehension syntax, of course\n",
    "\n",
    "[fn for fn in filenames if occursin(r\".git/objects/.*[abcde]{4}\", fn)]"
   ]
  },
  {
   "cell_type": "markdown",
   "metadata": {},
   "source": [
    "Notes about performance:\n",
    "\n",
    "these examples are given for the sake of sympicity and nice print-outs, but, in cases where you don't know the size of the input data in advance, you will want to use generators rather than arrays. Generators expressions look like list comprehensions, but are in parentheses rather than brackets. For a streaming version of the filter function, use `Iterators.filter`."
   ]
  }
 ],
 "metadata": {
  "kernelspec": {
   "display_name": "Julia 1.1.0",
   "language": "julia",
   "name": "julia-1.1"
  },
  "language_info": {
   "file_extension": ".jl",
   "mimetype": "application/julia",
   "name": "julia",
   "version": "1.1.0"
  }
 },
 "nbformat": 4,
 "nbformat_minor": 2
}

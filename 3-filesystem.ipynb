{
 "cells": [
  {
   "cell_type": "markdown",
   "metadata": {
    "ein.tags": "worksheet-0",
    "slideshow": {
     "slide_type": "-"
    }
   },
   "source": [
    "# Filesystem Stuff\n",
    "\n",
    "## Paths\n",
    "\n",
    "Julia provides a lot of built-ins for working with paths in a\n",
    "cross-platformy way."
   ]
  },
  {
   "cell_type": "code",
   "execution_count": 1,
   "metadata": {
    "autoscroll": false,
    "ein.hycell": false,
    "ein.tags": "worksheet-0",
    "slideshow": {
     "slide_type": "-"
    }
   },
   "outputs": [
    {
     "name": "stdout",
     "output_type": "stream",
     "text": [
      "basename(currdir) = \"administrative-scripting-with-julia\"\n",
      "dirname(currdir) = \"/home/ninjaaron/doc\"\n"
     ]
    },
    {
     "data": {
      "text/plain": [
       "\"/home/ninjaaron/doc/administrative-scripting-with-julia/README.rst\""
      ]
     },
     "execution_count": 1,
     "metadata": {},
     "output_type": "execute_result"
    }
   ],
   "source": [
    "currdir = pwd()\n",
    "@show basename(currdir)\n",
    "@show dirname(currdir)\n",
    "readme = joinpath(currdir, \"README.rst\")"
   ]
  },
  {
   "cell_type": "markdown",
   "metadata": {
    "ein.tags": "worksheet-0",
    "slideshow": {
     "slide_type": "-"
    }
   },
   "source": [
    "`joinpath` can join an arbitrary number of path elements. For splitting directory componets, there are two options. There is a `splitdir` function, which returns a 2-tuple of the basename and the parent directory:"
   ]
  },
  {
   "cell_type": "code",
   "execution_count": 2,
   "metadata": {
    "autoscroll": false,
    "ein.hycell": false,
    "ein.tags": "worksheet-0",
    "slideshow": {
     "slide_type": "-"
    }
   },
   "outputs": [
    {
     "data": {
      "text/plain": [
       "(\"/home/ninjaaron/doc\", \"administrative-scripting-with-julia\")"
      ]
     },
     "execution_count": 2,
     "metadata": {},
     "output_type": "execute_result"
    }
   ],
   "source": [
    "splitdir(currdir)"
   ]
  },
  {
   "cell_type": "markdown",
   "metadata": {
    "ein.tags": "worksheet-0",
    "slideshow": {
     "slide_type": "-"
    }
   },
   "source": [
    "And in Julia 1.1+, there is a `splitpath` function, which breaks up all the path components:"
   ]
  },
  {
   "cell_type": "code",
   "execution_count": 3,
   "metadata": {},
   "outputs": [
    {
     "data": {
      "text/plain": [
       "5-element Array{String,1}:\n",
       " \"/\"                                  \n",
       " \"home\"                               \n",
       " \"ninjaaron\"                          \n",
       " \"doc\"                                \n",
       " \"administrative-scripting-with-julia\""
      ]
     },
     "execution_count": 3,
     "metadata": {},
     "output_type": "execute_result"
    }
   ],
   "source": [
    "splitpath(currdir)"
   ]
  },
  {
   "cell_type": "markdown",
   "metadata": {},
   "source": [
    "Here just a few other functions that work on paths:"
   ]
  },
  {
   "cell_type": "code",
   "execution_count": 4,
   "metadata": {
    "autoscroll": false,
    "ein.hycell": false,
    "ein.tags": "worksheet-0",
    "slideshow": {
     "slide_type": "-"
    }
   },
   "outputs": [
    {
     "name": "stdout",
     "output_type": "stream",
     "text": [
      "splitext(\"README.rst\") = (\"README\", \".rst\")\n",
      "isdir(readme) = false\n",
      "isfile(readme) = true\n"
     ]
    },
    {
     "data": {
      "text/plain": [
       "StatStruct(mode=0o100644, size=42607)"
      ]
     },
     "execution_count": 4,
     "metadata": {},
     "output_type": "execute_result"
    }
   ],
   "source": [
    "@show splitext(\"README.rst\")\n",
    "@show isdir(readme)\n",
    "@show isfile(readme)\n",
    "st = stat(readme)"
   ]
  },
  {
   "cell_type": "markdown",
   "metadata": {
    "ein.tags": "worksheet-0",
    "slideshow": {
     "slide_type": "-"
    }
   },
   "source": [
    "`StatStruct` instances have a lot more attributes than this. They have [all these\n",
    "attributes](https://docs.julialang.org/en/v1/base/file/#Base.stat) as\n",
    "well. A couple of these attributes, like `mtime` and `ctime` are in\n",
    "Unix time, so it might be good mention that you can convert them to a\n",
    "human readable representation with the Dates module, which is in the\n",
    "standard library. It will be covered more in a later section. (Note\n",
    "that this pretty-printed date is just the way it prints. It is a data\n",
    "structure, not a string.)"
   ]
  },
  {
   "cell_type": "code",
   "execution_count": 5,
   "metadata": {
    "autoscroll": false,
    "ein.hycell": false,
    "ein.tags": "worksheet-0",
    "slideshow": {
     "slide_type": "-"
    }
   },
   "outputs": [
    {
     "data": {
      "text/plain": [
       "2019-06-18T08:09:37.918"
      ]
     },
     "execution_count": 5,
     "metadata": {},
     "output_type": "execute_result"
    }
   ],
   "source": [
    "import Dates\n",
    "Dates.unix2datetime(st.mtime)"
   ]
  },
  {
   "cell_type": "markdown",
   "metadata": {
    "ein.tags": "worksheet-0",
    "slideshow": {
     "slide_type": "-"
    }
   },
   "source": [
    "There are many other methods available in Base which have names you should already recognize, which I won't demonstrate now. Names include: `cd`, `rm`, `mkdir`, `mkpath` (like `mkdir -p` in the shell), `symlink`, `chown`, `chmod` (careful to make sure youre mode argument is in octal, `0o644` or whatever), `cp`, `mv`, `touch`, as well as a lot of tests like `isfile`, `isdir`, `islink`, `isfifo`, etc. If you've done shell scripting, you know what they do, and you can [read the docs] if you need more. The one thing function that's missing the familiar shell name is `ls`. That's called `readdir`, after the libc function."
   ]
  },
  {
   "cell_type": "code",
   "execution_count": 6,
   "metadata": {
    "autoscroll": false,
    "ein.hycell": false,
    "ein.tags": "worksheet-0",
    "slideshow": {
     "slide_type": "-"
    }
   },
   "outputs": [
    {
     "data": {
      "text/plain": [
       "11-element Array{String,1}:\n",
       " \".git\"              \n",
       " \".gitignore\"        \n",
       " \".ipynb_checkpoints\"\n",
       " \"1-files.ipynb\"     \n",
       " \"2-CLI.ipynb\"       \n",
       " \"3-filesystem.ipynb\"\n",
       " \"4-processes.ipynb\" \n",
       " \"5-regex.ipynb\"     \n",
       " \"README.rst\"        \n",
       " \"base.rst\"          \n",
       " \"build.sh\"          "
      ]
     },
     "execution_count": 6,
     "metadata": {},
     "output_type": "execute_result"
    }
   ],
   "source": [
    "readdir()"
   ]
  },
  {
   "cell_type": "markdown",
   "metadata": {
    "ein.tags": "worksheet-0",
    "slideshow": {
     "slide_type": "-"
    }
   },
   "source": [
    "There's also a\n",
    "[`walkdir`](https://docs.julialang.org/en/v1/base/file/#Base.Filesystem.walkdir)\n",
    "which recursively walks the directory and returns tuples of\n",
    "`(rootpath, dirs, files)` which is rather handy.\n",
    "\n",
    "There are a few things Julia still lacks in the filesystem\n",
    "department. It doesn't support any kind of file globbing, but that's\n",
    "easy enough to handle with regex or plain substring matching."
   ]
  },
  {
   "cell_type": "code",
   "execution_count": 7,
   "metadata": {
    "autoscroll": false,
    "ein.hycell": false,
    "ein.tags": "worksheet-0",
    "slideshow": {
     "slide_type": "-"
    }
   },
   "outputs": [
    {
     "data": {
      "text/plain": [
       "6-element Array{String,1}:\n",
       " \".ipynb_checkpoints\"\n",
       " \"1-files.ipynb\"     \n",
       " \"2-CLI.ipynb\"       \n",
       " \"3-filesystem.ipynb\"\n",
       " \"4-processes.ipynb\" \n",
       " \"5-regex.ipynb\"     "
      ]
     },
     "execution_count": 7,
     "metadata": {},
     "output_type": "execute_result"
    }
   ],
   "source": [
    "[path for path in readdir() if occursin(\"ipynb\", path)]"
   ]
  },
  {
   "cell_type": "code",
   "execution_count": 8,
   "metadata": {
    "autoscroll": false,
    "ein.hycell": false,
    "ein.tags": "worksheet-0",
    "slideshow": {
     "slide_type": "-"
    }
   },
   "outputs": [
    {
     "data": {
      "text/plain": [
       "8-element Array{String,1}:\n",
       " \"1-files.ipynb\"     \n",
       " \"2-CLI.ipynb\"       \n",
       " \"3-filesystem.ipynb\"\n",
       " \"4-processes.ipynb\" \n",
       " \"5-regex.ipynb\"     \n",
       " \"README.rst\"        \n",
       " \"base.rst\"          \n",
       " \"build.sh\"          "
      ]
     },
     "execution_count": 8,
     "metadata": {},
     "output_type": "execute_result"
    }
   ],
   "source": [
    "# or\n",
    "filter(p -> !startswith(p, \".\"), readdir())"
   ]
  },
  {
   "cell_type": "markdown",
   "metadata": {
    "ein.tags": "worksheet-0",
    "slideshow": {
     "slide_type": "-"
    }
   },
   "source": [
    "It also weirdly lacks a function for making hard links. Bah. I guess\n",
    "that's what the [C interface](https://docs.julialang.org/en/v1/manual/calling-c-and-fortran-code/)\n",
    "is for. (I'm both thumping my chest and groaning inside as I say that,\n",
    "but at least it is crazy easy to call C from Julia and is as efficient\n",
    "as native calls)"
   ]
  },
  {
   "cell_type": "code",
   "execution_count": 9,
   "metadata": {
    "autoscroll": false,
    "ein.hycell": false,
    "ein.tags": "worksheet-0",
    "slideshow": {
     "slide_type": "-"
    }
   },
   "outputs": [
    {
     "name": "stdout",
     "output_type": "stream",
     "text": [
      "st.nlink = 2\n"
     ]
    }
   ],
   "source": [
    "function hardlink(oldpath, newpath)\n",
    "    # calling:  int link(char *oldpath, char *newpath)\n",
    "    ret_code = ccall(:link, Int32, (Cstring, Cstring), oldpath, newpath)\n",
    "    # handle system errors from libc:\n",
    "    systemerror(\"linking $oldpath -> $newpath\", ret_code != 0)\n",
    "end\n",
    "\n",
    "hardlink(\"README.rst\", \"foo.txt\")\n",
    "st = stat(\"foo.txt\")\n",
    "@show st.nlink\n",
    "rm(\"foo.txt\")"
   ]
  },
  {
   "cell_type": "markdown",
   "metadata": {
    "ein.tags": "worksheet-0",
    "slideshow": {
     "slide_type": "-"
    }
   },
   "source": [
    "Course, using `ccall` sort of depends on, you know, knowing enough C\n",
    "to read and understand C function declarations for simple things, and\n",
    "it involves pointers and memory allocation crap if you want to do\n",
    "something more serious. It's C. What did you expect?\n",
    "\n",
    "Julia also lacks Python's easy, built-in support for compression and\n",
    "archive formats, though third-party packages do exist for GZip and Zip\n",
    "archives. Maybe I should work on an archiving library. Hm. Maybe not.\n",
    "\n",
    "Anyhow, there's more than one way to skin that cat. One distinctive\n",
    "feature of Julia is that is very clear after you use it a little, but\n",
    "it's hard to point to any one thing, is that it wants to make it easy\n",
    "to bootstrap whatever functionality you need into the language. The\n",
    "`ccall` API is part of that. It is used liberally in the\n",
    "implementation of OS interfaces in the standard library, as well as some of the mathematical\n",
    "libraries (`ccall` works on any dynamic libraries, not just those written in C). Though they aren't shipped with Julia, the community also maintains PyCall.jl and RCall.jl, which\n",
    "allow \"native\" calls into those runtimes for wrapping their\n",
    "libraries. Macros are different example of the same thing. Language\n",
    "missing a feature? Alter the semantics with a macro. Yet another\n",
    "example of this \"bootstrap-ability\" of Julia is the ease with which it\n",
    "allows the programmer to orchestrate the use of external processes.\n",
    "\n",
    "To take the example of the above `hardlink` function, If programming\n",
    "in C ain't your bag, Julia has really great support for running\n",
    "external processes, so it is also possible (but rather slower) to\n",
    "simply do:"
   ]
  },
  {
   "cell_type": "code",
   "execution_count": 10,
   "metadata": {
    "autoscroll": false,
    "ein.hycell": false,
    "ein.tags": "worksheet-1",
    "slideshow": {
     "slide_type": "-"
    }
   },
   "outputs": [
    {
     "data": {
      "text/plain": [
       "hardlink (generic function with 1 method)"
      ]
     },
     "execution_count": 10,
     "metadata": {},
     "output_type": "execute_result"
    }
   ],
   "source": [
    "hardlink(oldpath, newpath) = run(`link $oldpath $newpath`)"
   ]
  },
  {
   "cell_type": "markdown",
   "metadata": {},
   "source": [
    "So, let's transition to the section on [commands and processes](4-processes.ipynb)."
   ]
  }
 ],
 "metadata": {
  "kernelspec": {
   "display_name": "Julia 1.0.2",
   "language": "julia",
   "name": "julia-1.0"
  },
  "language_info": {
   "file_extension": ".jl",
   "mimetype": "application/julia",
   "name": "julia",
   "version": "1.1.1"
  },
  "name": "filesystem.ipynb"
 },
 "nbformat": 4,
 "nbformat_minor": 2
}

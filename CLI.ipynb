{
 "cells": [
  {
   "cell_type": "markdown",
   "metadata": {},
   "source": [
    "# Command-Line Interfaces\n",
    "In order to write flexible, reusable scripts, one must get information from the user and also send it back to them. Hard codeing a bunch of global constants is no way to live!\n",
    "\n",
    "## `stdin`, `stdout` and `stderr`\n",
    "These are your standard streams. The reason I started with a section on files was so I could get to these babies. They are `IO` objects that every script starts with open, and they automatically close at the end. They aren't \"real\" files, but they give the same interfaces as files (besides `seek`). `stdin` is open for reading and both `stdout` and `stderr` are open for writing.\n",
    "\n",
    "As you probably know, you can send data to the `stdin` of a program by piping the output of another program to it.\n",
    "\n",
    "```bash\n",
    "$ ls / | grep \"b\"\n",
    "bin\n",
    "boot\n",
    "lib\n",
    "lib64\n",
    "sbin\n",
    "```\n",
    "\n",
    "You can also do by using file redirection.\n",
    "\n",
    "```bash\n",
    "$ grep \"b\" < some_file\n",
    "...\n",
    "```\n",
    "\n",
    "From inside the script, this looks like any other IO object, and you can do whatever you need with the lines.\n",
    "\n",
    "```julia\n",
    "for line in eachline(stdin)\n",
    "    # do something\n",
    "end\n",
    "```\n",
    "\n",
    "However, the creators of Julia know that this is such a common case that both `readlines` and `eachline` default to using stdin. `eachline()` is identical to `eachline(stdin)`\n",
    "\n",
    "`stdout` is the easy one. You already know how to write to it: the `print` and `println` functions. You can also use `write`, of course, if you need to write binary data.\n",
    "\n",
    "`stderr` is exactly the same as stdout, but you'd explicitely state that you wanted things to go there: "
   ]
  },
  {
   "cell_type": "code",
   "execution_count": 1,
   "metadata": {},
   "outputs": [
    {
     "name": "stderr",
     "output_type": "stream",
     "text": [
      "things are real bad in this script\n"
     ]
    }
   ],
   "source": [
    "println(stderr, \"things are real bad in this script\")"
   ]
  },
  {
   "cell_type": "markdown",
   "metadata": {},
   "source": [
    "Normally, you want to send data to stdout that is suitable to be used by the stdin of another program (maybe `grep` or `sed`?), and `stderr` is for messages for the user about what's happening in the script (error messages, logging, debugging info). For more advanced logging, Julia provides a [Logging module](https://docs.julialang.org/en/v1/stdlib/Logging/) in the standard library."
   ]
  },
  {
   "cell_type": "markdown",
   "metadata": {},
   "source": [
    "## CLI Arguments\n",
    "\n",
    "Another important way to get information for your uses is through command line arguments. As in most languages, you get an array of strings. Unlike many languages, the first item in this array is _not_ the name of the program. That's in a global variable called `PROGRAM_FILE`. That can also be useful, but we're talking about the `ARGS` array.\n",
    "\n",
    "Here is a simple clone of `cp`:\n",
    "\n",
    "```julia\n",
    "# cp.jl\n",
    "\n",
    "srcfiles = ARGS[1:end-1]\n",
    "dest = ARGS[end]\n",
    "for src in srcfiles\n",
    "    cp(src, dest)\n",
    "    # yes, really.\n",
    "end\n",
    "```\n",
    "\n",
    "Which you would use like this\n",
    "\n",
    "```bash\n",
    "$ ./cp.jl afile otherfile targetdir\n",
    "```\n",
    "\n",
    "For more sophisticated argument parsing, two popular third-party modules are [ArgParse.jl](https://juliaobserver.com/packages/ArgParse) and [DocOpt.jl](https://juliaobserver.com/packages/DocOpt), which provide similar interfaces to the Python modules of the same names."
   ]
  },
  {
   "cell_type": "markdown",
   "metadata": {},
   "source": [
    "## Environment Variables and Config Files\n",
    "\n",
    "Another way to get info from your user is from configuration settings. Though it is not the approach I prefer, one popular way to do this is using environment variables store settings, which are exported in `~/.profile` or some other shell configuration file. In Julia, environment variables are stored in the `ENV` dictionary."
   ]
  },
  {
   "cell_type": "code",
   "execution_count": 2,
   "metadata": {},
   "outputs": [
    {
     "name": "stdout",
     "output_type": "stream",
     "text": [
      "var = \"SHELL\"\n",
      "ENV[var] = \"/usr/bin/zsh\"\n",
      "var = \"EDITOR\"\n",
      "ENV[var] = \"nvim\"\n",
      "var = \"USER\"\n",
      "ENV[var] = \"ninjaaron\"\n"
     ]
    }
   ],
   "source": [
    "for var in (\"SHELL\", \"EDITOR\", \"USER\")\n",
    "    @show var ENV[var]\n",
    "end"
   ]
  },
  {
   "cell_type": "markdown",
   "metadata": {},
   "source": [
    "I personally prefer to use config files. [TOML](https://github.com/toml-lang/toml) seems to be what all the cool kids are using these days, and it's also used by Julia's built-in package manager, so that's probably not a bad choice. There is a \"secret\" TOML module in the standard library which is vendor by `Pkg`.\n",
    "\n",
    "You can get at it this way:"
   ]
  },
  {
   "cell_type": "code",
   "execution_count": 3,
   "metadata": {
    "scrolled": true
   },
   "outputs": [
    {
     "data": {
      "text/latex": [
       "Executes the parser, parsing the string contained within.\n",
       "\n",
       "This function will return the \\texttt{Table} instance if parsing is successful, or it will return \\texttt{nothing} if any parse error or invalid TOML error occurs.\n",
       "\n",
       "If an error occurs, the \\texttt{errors} field of this parser can be consulted to determine the cause of the parse failure.\n",
       "\n",
       "Parse IO input and return result as dictionary.\n",
       "\n",
       "Parse string\n",
       "\n"
      ],
      "text/markdown": [
       "Executes the parser, parsing the string contained within.\n",
       "\n",
       "This function will return the `Table` instance if parsing is successful, or it will return `nothing` if any parse error or invalid TOML error occurs.\n",
       "\n",
       "If an error occurs, the `errors` field of this parser can be consulted to determine the cause of the parse failure.\n",
       "\n",
       "Parse IO input and return result as dictionary.\n",
       "\n",
       "Parse string\n"
      ],
      "text/plain": [
       "  Executes the parser, parsing the string contained within.\n",
       "\n",
       "  This function will return the \u001b[36mTable\u001b[39m instance if parsing is successful, or it\n",
       "  will return \u001b[36mnothing\u001b[39m if any parse error or invalid TOML error occurs.\n",
       "\n",
       "  If an error occurs, the \u001b[36merrors\u001b[39m field of this parser can be consulted to\n",
       "  determine the cause of the parse failure.\n",
       "\n",
       "  Parse IO input and return result as dictionary.\n",
       "\n",
       "  Parse string"
      ]
     },
     "execution_count": 3,
     "metadata": {},
     "output_type": "execute_result"
    }
   ],
   "source": [
    "import Pkg: TOML\n",
    "@doc TOML.parse"
   ]
  },
  {
   "cell_type": "markdown",
   "metadata": {},
   "source": [
    "Because it's vendored, it's probably considered an implementation detail and subject to disappaer without notice. I don't know what the deal is. Anyway, the library they vendor can be found [here](https://github.com/wildart/TOML.jl). There are a couple other TOML libraries on juliaobserver.com. There are also a semi-official looking packages under the JuliaIO org on github called [ConfigParser.jl](https://github.com/JuliaIO/ConfParser.jl) That can deal with ini files a few other types. There is also a [JSON.jl](https://github.com/JuliaIO/JSON.jl). I'm pretty against using JSON for config files, but there it is."
   ]
  }
 ],
 "metadata": {
  "kernelspec": {
   "display_name": "Julia 1.0.2",
   "language": "julia",
   "name": "julia-1.0"
  },
  "language_info": {
   "file_extension": ".jl",
   "mimetype": "application/julia",
   "name": "julia",
   "version": "1.0.3"
  }
 },
 "nbformat": 4,
 "nbformat_minor": 2
}

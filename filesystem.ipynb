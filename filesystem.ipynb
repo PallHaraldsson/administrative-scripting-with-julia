{
 "cells": [
  {
   "cell_type": "markdown",
   "metadata": {},
   "source": [
    "# Filesystem Stuff\n",
    "\n",
    "## Paths\n",
    "\n",
    "Julia provides a lot of built-ins for working with paths in a cross-platformy way."
   ]
  },
  {
   "cell_type": "code",
   "execution_count": 1,
   "metadata": {},
   "outputs": [
    {
     "name": "stdout",
     "output_type": "stream",
     "text": [
      "basename(currdir) = \"administrative-scripting-with-julia\"\n",
      "dirname(currdir) = \"/home/ninjaaron/doc\"\n"
     ]
    },
    {
     "data": {
      "text/plain": [
       "\"/home/ninjaaron/doc/administrative-scripting-with-julia/README.rst\""
      ]
     },
     "execution_count": 1,
     "metadata": {},
     "output_type": "execute_result"
    }
   ],
   "source": [
    "currdir = pwd()\n",
    "@show basename(currdir)\n",
    "@show dirname(currdir)\n",
    "readme = joinpath(currdir, \"README.rst\")"
   ]
  },
  {
   "cell_type": "markdown",
   "metadata": {},
   "source": [
    "`joinpath` can join an arbitrary number of path elements. I found it very strange that there was no `splitpath` method to return an array of all path elements. There has only been a `splitdir` function, which returns a tuple."
   ]
  },
  {
   "cell_type": "code",
   "execution_count": 2,
   "metadata": {},
   "outputs": [
    {
     "data": {
      "text/plain": [
       "(\"/home/ninjaaron/doc\", \"administrative-scripting-with-julia\")"
      ]
     },
     "execution_count": 2,
     "metadata": {},
     "output_type": "execute_result"
    }
   ],
   "source": [
    "splitdir(currdir)"
   ]
  },
  {
   "cell_type": "markdown",
   "metadata": {},
   "source": [
    "However, I'm happy to say that a `splitpath` method is included in the 1.1 release of Julia, for which a release candidate has just been released (on 2019-1-1), so you should be able to do\n",
    "\n",
    "```julia\n",
    "julia> splitpath(currdir)\n",
    "[\"/\", \"home\", \"ninjaaron\", \"doc\", \"administrative-scripting-with-julia\"]\n",
    "```\n",
    "\n",
    "... or something like that."
   ]
  },
  {
   "cell_type": "code",
   "execution_count": 3,
   "metadata": {},
   "outputs": [
    {
     "name": "stdout",
     "output_type": "stream",
     "text": [
      "splitext(\"README.rst\") = (\"README\", \".rst\")\n",
      "isdir(readme) = false\n",
      "isfile(readme) = true\n"
     ]
    },
    {
     "data": {
      "text/plain": [
       "StatStruct(mode=0o100644, size=7528)"
      ]
     },
     "execution_count": 3,
     "metadata": {},
     "output_type": "execute_result"
    }
   ],
   "source": [
    "@show splitext(\"README.rst\")\n",
    "@show isdir(readme)\n",
    "@show isfile(readme)\n",
    "st = stat(readme)"
   ]
  },
  {
   "attachments": {},
   "cell_type": "markdown",
   "metadata": {},
   "source": [
    "`StatStruct` instances have a lot more attributes than this, of course. They have [all these attributes](https://docs.julialang.org/en/v1/base/file/#Base.stat) as well. A couple of these attributes, like `mtime` and `ctime` are in Unix time, so it might be good mention that you can convert them to a human readable representation with the Dates module, which is in the standard library. It will be covered more in a later section. (Note that this pretty-printed date is just the way it prints. It is a data structure.)"
   ]
  },
  {
   "cell_type": "code",
   "execution_count": 4,
   "metadata": {},
   "outputs": [
    {
     "data": {
      "text/plain": [
       "2019-01-02T12:58:42.201"
      ]
     },
     "execution_count": 4,
     "metadata": {},
     "output_type": "execute_result"
    }
   ],
   "source": [
    "import Dates\n",
    "Dates.unix2datetime(st.mtime)"
   ]
  },
  {
   "cell_type": "markdown",
   "metadata": {},
   "source": [
    "There are many other methods available in Base which have names you should already recognize, which I won't demonstrate now. Names include: `cd`, `rm`, `mkdir`, `mkpath` (like `mkdir -p` in the shell), `symlink`, `chown`, `chmod` (careful to make sure youre mode argument is in octal, `0o644` or whatever), `cp`, `mv`, `touch`, as well as a lot of tests like `isfile`, `isdir`, `islink`, `isfifo`, etc. You know what they do, and you can [read the docs] if you need more. The one thing that's missing is `ls`. That's called `readdir`."
   ]
  },
  {
   "cell_type": "code",
   "execution_count": 5,
   "metadata": {},
   "outputs": [
    {
     "data": {
      "text/plain": [
       "7-element Array{String,1}:\n",
       " \".git\"              \n",
       " \".gitignore\"        \n",
       " \".ipynb_checkpoints\"\n",
       " \"CLI.ipynb\"         \n",
       " \"README.rst\"        \n",
       " \"files.ipynb\"       \n",
       " \"filesystem.ipynb\"  "
      ]
     },
     "execution_count": 5,
     "metadata": {},
     "output_type": "execute_result"
    }
   ],
   "source": [
    "readdir()"
   ]
  },
  {
   "cell_type": "markdown",
   "metadata": {},
   "source": [
    "There's also a [`walkdir`](https://docs.julialang.org/en/v1/base/file/#Base.Filesystem.walkdir) which recursively walks the directory and returns tuples of `(rootpath, dirs, files)` which is rather handy.\n",
    "\n",
    "There are a few things Julia still lacks in the filesystem department. It doesn't support any kind of file globbing, but that's easy enough to handle with regex or plain substring matching."
   ]
  },
  {
   "cell_type": "code",
   "execution_count": 6,
   "metadata": {},
   "outputs": [
    {
     "data": {
      "text/plain": [
       "4-element Array{String,1}:\n",
       " \".ipynb_checkpoints\"\n",
       " \"CLI.ipynb\"         \n",
       " \"files.ipynb\"       \n",
       " \"filesystem.ipynb\"  "
      ]
     },
     "execution_count": 6,
     "metadata": {},
     "output_type": "execute_result"
    }
   ],
   "source": [
    "[path for path in readdir() if occursin(\"ipynb\", path)]"
   ]
  },
  {
   "cell_type": "code",
   "execution_count": 7,
   "metadata": {},
   "outputs": [
    {
     "data": {
      "text/plain": [
       "4-element Array{String,1}:\n",
       " \"CLI.ipynb\"       \n",
       " \"README.rst\"      \n",
       " \"files.ipynb\"     \n",
       " \"filesystem.ipynb\""
      ]
     },
     "execution_count": 7,
     "metadata": {},
     "output_type": "execute_result"
    }
   ],
   "source": [
    "# or\n",
    "filter!(p -> !startswith(p, \".\"), readdir())"
   ]
  },
  {
   "cell_type": "markdown",
   "metadata": {},
   "source": [
    "It also weirdly lacks a function for making hard links. Bah. I guess that's what the [C interface](https://docs.julialang.org/en/v1/manual/calling-c-and-fortran-code/) is for. (I'm both thumping my chest and groaning inside as I say that, but at least it is crazy easy to call C from Julia and is as efficient as native calls)"
   ]
  },
  {
   "cell_type": "code",
   "execution_count": 8,
   "metadata": {},
   "outputs": [
    {
     "name": "stdout",
     "output_type": "stream",
     "text": [
      "(stat(\"foo.txt\")).nlink = 2\n"
     ]
    }
   ],
   "source": [
    "function hardlink(oldpath, newpath)\n",
    "    ret_code = ccall(:link, Int32, (Cstring, Cstring), oldpath, newpath)\n",
    "    ret_code == 0 ? newpath : error(\"couldn't link link: $oldpath -> $newpath\")\n",
    "end\n",
    "\n",
    "hardlink(\"README.rst\", \"foo.txt\")\n",
    "@show stat(\"foo.txt\").nlink\n",
    "rm(\"foo.txt\")"
   ]
  },
  {
   "cell_type": "markdown",
   "metadata": {},
   "source": [
    "Julia also lacks Python's easy, built-in support for compression and archive formats, though third-party packages do exist for GZip and Zip archives. Maybe I should work on an archiving library. Hm. Anyway, there's more than one way to skin that cat. Julia has really great support for running external processes, so let's go there next."
   ]
  }
 ],
 "metadata": {
  "kernelspec": {
   "display_name": "Julia 1.0.2",
   "language": "julia",
   "name": "julia-1.0"
  },
  "language_info": {
   "file_extension": ".jl",
   "mimetype": "application/julia",
   "name": "julia",
   "version": "1.0.2"
  }
 },
 "nbformat": 4,
 "nbformat_minor": 2
}

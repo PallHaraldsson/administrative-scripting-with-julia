{
 "cells": [
  {
   "cell_type": "markdown",
   "metadata": {},
   "source": [
    "# Filesystem Stuff\n",
    "\n",
    "## Paths\n",
    "\n",
    "Julia provides a lot of built-ins for working with paths in a cross-platformy way."
   ]
  },
  {
   "cell_type": "code",
   "execution_count": 1,
   "metadata": {},
   "outputs": [
    {
     "name": "stdout",
     "output_type": "stream",
     "text": [
      "basename(currdir) = \"administrative-scripting-with-julia\"\n",
      "dirname(currdir) = \"/home/ninjaaron/doc\"\n"
     ]
    },
    {
     "data": {
      "text/plain": [
       "\"/home/ninjaaron/doc/administrative-scripting-with-julia/README.rst\""
      ]
     },
     "execution_count": 1,
     "metadata": {},
     "output_type": "execute_result"
    }
   ],
   "source": [
    "currdir = pwd()\n",
    "@show basename(currdir)\n",
    "@show dirname(currdir)\n",
    "readme = joinpath(currdir, \"README.rst\")"
   ]
  },
  {
   "cell_type": "code",
   "execution_count": 2,
   "metadata": {},
   "outputs": [
    {
     "name": "stdout",
     "output_type": "stream",
     "text": [
      "splitext(\"README.rst\") = (\"README\", \".rst\")\n",
      "isdir(readme) = false\n",
      "isfile(readme) = true\n"
     ]
    },
    {
     "data": {
      "text/plain": [
       "StatStruct(mode=0o100644, size=7528)"
      ]
     },
     "execution_count": 2,
     "metadata": {},
     "output_type": "execute_result"
    }
   ],
   "source": [
    "@show splitext(\"README.rst\")\n",
    "@show isdir(readme)\n",
    "@show isfile(readme)\n",
    "stat(readme)"
   ]
  }
 ],
 "metadata": {
  "kernelspec": {
   "display_name": "Julia 1.0.2",
   "language": "julia",
   "name": "julia-1.0"
  },
  "language_info": {
   "file_extension": ".jl",
   "mimetype": "application/julia",
   "name": "julia",
   "version": "1.0.3"
  }
 },
 "nbformat": 4,
 "nbformat_minor": 2
}

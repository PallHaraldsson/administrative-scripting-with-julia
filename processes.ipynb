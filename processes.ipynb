{
 "cells": [
  {
   "cell_type": "markdown",
   "metadata": {},
   "source": [
    "# Running Processes"
   ]
  },
  {
   "cell_type": "code",
   "execution_count": 1,
   "metadata": {},
   "outputs": [
    {
     "data": {
      "text/plain": [
       "`\u001b[4mlink\u001b[24m \u001b[4mREADME.rst\u001b[24m \u001b[4mfoo.txt\u001b[24m`"
      ]
     },
     "execution_count": 1,
     "metadata": {},
     "output_type": "execute_result"
    }
   ],
   "source": [
    "command = `link README.rst foo.txt`"
   ]
  },
  {
   "cell_type": "markdown",
   "metadata": {},
   "source": [
    "What is it? It's glorious!"
   ]
  },
  {
   "cell_type": "code",
   "execution_count": 2,
   "metadata": {},
   "outputs": [
    {
     "data": {
      "text/plain": [
       "Cmd"
      ]
     },
     "execution_count": 2,
     "metadata": {},
     "output_type": "execute_result"
    }
   ],
   "source": [
    "typeof(command)"
   ]
  },
  {
   "cell_type": "markdown",
   "metadata": {},
   "source": [
    "It's Julia's `Cmd` literal, and it's a thing of beauty. What has it done? Nothing.\n",
    "\n",
    "Command literals are not like command literals in Perl, Ruby or Bash in that they execute a command and return the output as a string. They are something so much better. The create a `Cmd` instance which contains the arguments and some other information, and that object can be sent to various different functions to be executed in different ways. The simplest thing you can do, and the thing you need most often, is simply to run the command."
   ]
  },
  {
   "cell_type": "code",
   "execution_count": 3,
   "metadata": {},
   "outputs": [
    {
     "data": {
      "text/plain": [
       "Process(`\u001b[4mlink\u001b[24m \u001b[4mREADME.rst\u001b[24m \u001b[4mfoo.txt\u001b[24m`, ProcessExited(0))"
      ]
     },
     "execution_count": 3,
     "metadata": {},
     "output_type": "execute_result"
    }
   ],
   "source": [
    "filename = \"foo.txt\"\n",
    "run(`link README.rst $filename`)"
   ]
  },
  {
   "cell_type": "code",
   "execution_count": 4,
   "metadata": {},
   "outputs": [
    {
     "name": "stdout",
     "output_type": "stream",
     "text": [
      "-rw-r--r-- 2 ninjaaron ninjaaron 7.4K Dec 31 19:52 foo.txt\n"
     ]
    },
    {
     "data": {
      "text/plain": [
       "Process(`\u001b[4mls\u001b[24m \u001b[4m-lh\u001b[24m \u001b[4mfoo.txt\u001b[24m`, ProcessExited(0))"
      ]
     },
     "execution_count": 4,
     "metadata": {},
     "output_type": "execute_result"
    }
   ],
   "source": [
    "run(`ls -lh $filename`)"
   ]
  },
  {
   "cell_type": "markdown",
   "metadata": {},
   "source": [
    "Here's a handy thing:"
   ]
  },
  {
   "cell_type": "code",
   "execution_count": 5,
   "metadata": {},
   "outputs": [
    {
     "name": "stderr",
     "output_type": "stream",
     "text": [
      "link: cannot create link 'foo.txt' to 'README.rst': File exists\n"
     ]
    },
    {
     "ename": "ErrorException",
     "evalue": "failed process: Process(`link README.rst foo.txt`, ProcessExited(1)) [1]",
     "output_type": "error",
     "traceback": [
      "failed process: Process(`link README.rst foo.txt`, ProcessExited(1)) [1]",
      "",
      "Stacktrace:",
      " [1] run(::Cmd) at ./process.jl:661",
      " [2] top-level scope at In[5]:1"
     ]
    }
   ],
   "source": [
    "run(`link README.rst $filename`)"
   ]
  },
  {
   "cell_type": "markdown",
   "metadata": {},
   "source": [
    "That's right: Finished processes raise an error when there is a non-zero exit status in the general case. Why doesn't every other language do this by default? No idea. There are cases where you don't want this, like if you're using `grep`, for example. `grep` exits 1 if no matches were found, which isn't exactly an error.\n",
    "\n",
    "You can avoid it by passing additional arguments to the `Cmd` constructor."
   ]
  },
  {
   "cell_type": "code",
   "execution_count": 6,
   "metadata": {},
   "outputs": [
    {
     "name": "stderr",
     "output_type": "stream",
     "text": [
      "link: cannot create link 'foo.txt' to 'README.rst': File exists\n"
     ]
    },
    {
     "data": {
      "text/plain": [
       "Process(`\u001b[4mlink\u001b[24m \u001b[4mREADME.rst\u001b[24m \u001b[4mfoo.txt\u001b[24m`, ProcessExited(1))"
      ]
     },
     "execution_count": 6,
     "metadata": {},
     "output_type": "execute_result"
    }
   ],
   "source": [
    "run(Cmd(`link README.rst $filename`, ignorestatus=true))"
   ]
  },
  {
   "cell_type": "markdown",
   "metadata": {},
   "source": [
    "So the error message still goes"
   ]
  }
 ],
 "metadata": {
  "kernelspec": {
   "display_name": "Julia 1.0.3",
   "language": "julia",
   "name": "julia-1.0"
  },
  "language_info": {
   "file_extension": ".jl",
   "mimetype": "application/julia",
   "name": "julia",
   "version": "1.0.3"
  }
 },
 "nbformat": 4,
 "nbformat_minor": 2
}

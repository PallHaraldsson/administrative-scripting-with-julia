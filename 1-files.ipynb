{
 "cells": [
  {
   "cell_type": "markdown",
   "metadata": {},
   "source": [
    "# Reading and Writing Files\n",
    "I like to start going over administrative scripting with the topic of files because files are fundamental to the way a Unix system thinks about data. If the filesystem were a relational database, files would be the tables, and each line would be like a record. This is obviously not true of every file, but it is a pervasive pattern. To the system, files are not only data stored on disk. They can be anything that can do IO streaming. Devices attached to the computer show up as files, sockets can show up as files and many other things as well.\n",
    "\n",
    "## Opening Files"
   ]
  },
  {
   "cell_type": "code",
   "execution_count": 1,
   "metadata": {},
   "outputs": [
    {
     "data": {
      "text/plain": [
       "\"Some text concerning foo.\\n\""
      ]
     },
     "execution_count": 1,
     "metadata": {},
     "output_type": "execute_result"
    }
   ],
   "source": [
    "# write some text into a file\n",
    "io = open(\"foo.txt\", \"w\")\n",
    "println(io, \"Some text concerning foo.\")\n",
    "close(io)\n",
    "\n",
    "# read the text from a file\n",
    "io = open(\"foo.txt\")\n",
    "read(io, String)"
   ]
  },
  {
   "cell_type": "markdown",
   "metadata": {},
   "source": [
    "The basics of working with files in Julia are not much different from other programming languages. There is an `open` method which takes then name of the file as a string and a mode argument, and returns an `IO` instance. The modes you'll most often be using are `\"r\"`, `\"w\"` and `\"a\"`, for _read_, _write_ and _append_. These correspond to `<`, `>` and `>>` in the shell. `\"r\"` is the default. There are more mode arguments, and you can read about them in the [documentation for open](https://docs.julialang.org/en/v1/base/io-network/#Base.open). There is a `write` function for writing to files, but `print` and `println` work just as well, and they will convert any non-string arguments to a string representation before sending it to the file. The `write` function, however, can also take an array of bytes (`UInt8`, in Julia parlance) and send those to the specified stream as well.\n",
    "\n",
    "Likewise, `read` can also return an array of bytes. In fact, this is the default behavior. This is why, in our first example, the second argument, `String` is used. Here is the result if it is omitted:"
   ]
  },
  {
   "cell_type": "code",
   "execution_count": 2,
   "metadata": {},
   "outputs": [
    {
     "name": "stdout",
     "output_type": "stream",
     "text": [
      "UInt8[0x53, 0x6f, 0x6d, 0x65, 0x20, 0x74, 0x65, 0x78, 0x74, 0x20, 0x63, 0x6f, 0x6e, 0x63, 0x65, 0x72, 0x6e, 0x69, 0x6e, 0x67, 0x20, 0x66, 0x6f, 0x6f, 0x2e, 0x0a]"
     ]
    }
   ],
   "source": [
    "# return to beginning of file\n",
    "seek(io, 0)\n",
    "\n",
    "show(read(io))\n",
    "close(io)"
   ]
  },
  {
   "cell_type": "markdown",
   "metadata": {},
   "source": [
    "We've also seen the `close` function so far. This cleans up the file descriptor for the system and flushes any data remaining in buffers. However, you normally won't call it yourself.\n",
    "\n",
    "For one thing, if you want to be lazy, the file descriptor will be cleaned up when the IO object is garbage-collected, so you _can_ ignore it, espeically if you're not opening many files. However, if you are opening a lot of files and you aren't sure when the garbage collector runs, There are other ways to do it. The first one is functionally similar to a context manager in Python, if you're familiar with that, but it looks a little different.\n",
    "\n",
    "In Python, you'd write:\n",
    "\n",
    "```python\n",
    "with open(\"foo.txt\") as io:\n",
    "    print(io.read())\n",
    "```\n",
    "In Julia, it's a [do block](https://docs.julialang.org/en/v1/manual/functions/#Do-Block-Syntax-for-Function-Arguments-1):"
   ]
  },
  {
   "cell_type": "code",
   "execution_count": 3,
   "metadata": {},
   "outputs": [
    {
     "name": "stdout",
     "output_type": "stream",
     "text": [
      "Some text concerning foo.\n"
     ]
    }
   ],
   "source": [
    "open(\"foo.txt\") do io\n",
    "    print(read(io, String))\n",
    "end"
   ]
  },
  {
   "cell_type": "markdown",
   "metadata": {},
   "source": [
    "Do blocks with `open` are useful because they still do the cleanup step even if an exception is thrown inside the block. However, Julia has better shortcuts than that. Many functions that would take a readable `IO` instance as their argument can take the name of the file directly instead."
   ]
  },
  {
   "cell_type": "code",
   "execution_count": 4,
   "metadata": {},
   "outputs": [
    {
     "data": {
      "text/plain": [
       "\"Some text concerning foo.\\n\""
      ]
     },
     "execution_count": 4,
     "metadata": {},
     "output_type": "execute_result"
    }
   ],
   "source": [
    "read(\"foo.txt\", String)"
   ]
  },
  {
   "cell_type": "markdown",
   "metadata": {},
   "source": [
    "The do-block version is always the safest if you're doing anything inside the block besides just calling the \"read\" function, but it doesn't make a big difference if you're not planning on using up all your file descriptors. Now let's get rid of that file and get to the next section."
   ]
  },
  {
   "cell_type": "code",
   "execution_count": 5,
   "metadata": {},
   "outputs": [],
   "source": [
    "rm(\"foo.txt\")\n",
    "# yes, that's really how you remove a file in Julia."
   ]
  },
  {
   "cell_type": "markdown",
   "metadata": {},
   "source": [
    "## Iterating on Files"
   ]
  },
  {
   "cell_type": "code",
   "execution_count": 6,
   "metadata": {
    "scrolled": false
   },
   "outputs": [
    {
     "name": "stdout",
     "output_type": "stream",
     "text": [
      "The first line\n",
      "Another line\n",
      "The last line\n"
     ]
    }
   ],
   "source": [
    "# setup a dummy file for this section\n",
    "open(\"dummy.txt\", \"w\") do io\n",
    "    print(io,\n",
    "        \"\"\"\n",
    "        The first line\n",
    "        Another line\n",
    "        The last line\n",
    "        \"\"\")\n",
    "end\n",
    "print(read(\"dummy.txt\", String))\n",
    "\n",
    "# Note that Julia truncates lines in triple-quote strings so you can still\n",
    "# use pretty indentation."
   ]
  },
  {
   "cell_type": "markdown",
   "metadata": {},
   "source": [
    "Reading a file as a chunck of text is fine, but Unix tools typically need to break files into lines and deal with them one line at a time. In Julia, there are a couple ways to do this. The first is using `readlines` to read the lines in the file into an array. Like `read`, `readlines` can take an IO object or a filename as the first argument."
   ]
  },
  {
   "cell_type": "code",
   "execution_count": 7,
   "metadata": {},
   "outputs": [
    {
     "name": "stdout",
     "output_type": "stream",
     "text": [
      "[\"The first line\", \"Another line\", \"The last line\"]"
     ]
    }
   ],
   "source": [
    "show(readlines(\"dummy.txt\"))"
   ]
  },
  {
   "cell_type": "markdown",
   "metadata": {},
   "source": [
    "Notice that Julia has very shell-like instincts about this. Trailing newlines are skipped\n",
    "automatically, whereas this takes an extra step in any other language, even Perl, whose syntax and semantics are largely based on the shell. If you want to `keep` the trailing newlines, that's also possible, just not default."
   ]
  },
  {
   "cell_type": "code",
   "execution_count": 8,
   "metadata": {},
   "outputs": [
    {
     "name": "stdout",
     "output_type": "stream",
     "text": [
      "[\"The first line\\n\", \"Another line\\n\", \"The last line\\n\"]"
     ]
    }
   ],
   "source": [
    "show(readlines(\"dummy.txt\", keep=true))"
   ]
  },
  {
   "cell_type": "markdown",
   "metadata": {},
   "source": [
    "`readline` will be fine for most files, but it's not good if you have to read a large file that can't fit in memory. A more robust way to deal with lines is lazily. That's what `eachline` is for. It takes the same kind arguments as `readlines`, but doesn't load everything into memory at once. You just loop over it and get your lines."
   ]
  },
  {
   "cell_type": "code",
   "execution_count": 9,
   "metadata": {},
   "outputs": [
    {
     "name": "stdout",
     "output_type": "stream",
     "text": [
      "\"The first line\"\n",
      "\"Another line\"\n",
      "\"The last line\"\n"
     ]
    }
   ],
   "source": [
    "for line in eachline(\"dummy.txt\")\n",
    "    println(repr(line))\n",
    "end"
   ]
  },
  {
   "cell_type": "markdown",
   "metadata": {},
   "source": [
    "`eachline` will close the file when it reaches the end, but not if iteration is interupted. Therefore, if the loop could be broken and you're worried about running out of file descriptors, it's safer to use a do block."
   ]
  },
  {
   "cell_type": "code",
   "execution_count": 10,
   "metadata": {},
   "outputs": [],
   "source": [
    "open(\"dummy.txt\") do io\n",
    "    for line in eachline(io)\n",
    "        # do something\n",
    "    end\n",
    "end"
   ]
  },
  {
   "cell_type": "markdown",
   "metadata": {},
   "source": [
    "There are many more functions you can use with `IO` objects, but this covers the common case for administrative scripting. You can read the [documentation](https://docs.julialang.org/en/v1/base/io-network/) if you want more info. We're moving on to [command-line interfaces](2-CLI.ipynb).\n",
    "\n",
    "_Note: the Julia standard library only deals with ASCII/UTF8 strings. You may wish to check out [JuliaStrings](https://github.com/JuliaStrings) for support for other encodings._"
   ]
  },
  {
   "cell_type": "code",
   "execution_count": null,
   "metadata": {},
   "outputs": [],
   "source": [
    "rm(\"dummy.txt\")"
   ]
  }
 ],
 "metadata": {
  "kernelspec": {
   "display_name": "Julia 1.1.1",
   "language": "julia",
   "name": "julia-1.1"
  },
  "language_info": {
   "file_extension": ".jl",
   "mimetype": "application/julia",
   "name": "julia",
   "version": "1.1.1"
  }
 },
 "nbformat": 4,
 "nbformat_minor": 2
}

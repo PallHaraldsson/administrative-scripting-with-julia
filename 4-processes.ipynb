{
 "cells": [
  {
   "cell_type": "markdown",
   "metadata": {},
   "source": [
    "# Running Processes"
   ]
  },
  {
   "cell_type": "code",
   "execution_count": 1,
   "metadata": {},
   "outputs": [
    {
     "data": {
      "text/plain": [
       "`\u001b[4mlink\u001b[24m \u001b[4mREADME.rst\u001b[24m \u001b[4mfoo.txt\u001b[24m`"
      ]
     },
     "execution_count": 1,
     "metadata": {},
     "output_type": "execute_result"
    }
   ],
   "source": [
    "command = `link README.rst foo.txt`"
   ]
  },
  {
   "cell_type": "markdown",
   "metadata": {},
   "source": [
    "What is it? It's glorious!"
   ]
  },
  {
   "cell_type": "code",
   "execution_count": 2,
   "metadata": {},
   "outputs": [
    {
     "data": {
      "text/plain": [
       "Cmd"
      ]
     },
     "execution_count": 2,
     "metadata": {},
     "output_type": "execute_result"
    }
   ],
   "source": [
    "typeof(command)"
   ]
  },
  {
   "cell_type": "markdown",
   "metadata": {},
   "source": [
    "It's Julia's `Cmd` literal, and it's a thing of beauty. What has it done? Nothing.\n",
    "\n",
    "Command literals, though they look the same, are not like process substitution in Perl, Ruby or Bash in that they execute a command and return the output as a string. They are something so much better. The create a `Cmd` instance which contains the arguments and some other information, and that object can be sent to various different functions to be executed in different ways. [The documentation](https://docs.julialang.org/en/v1/manual/running-external-programs/) gives a good description of how to use these little marvels, so I'll just cover a few simple cases here and explain what makes these so great.\n",
    "\n",
    "The simplest thing you can do, and the thing you need most often, is simply to run the command."
   ]
  },
  {
   "cell_type": "code",
   "execution_count": 3,
   "metadata": {},
   "outputs": [
    {
     "data": {
      "text/plain": [
       "Process(`\u001b[4mlink\u001b[24m \u001b[4mREADME.rst\u001b[24m \u001b[4mfoo.txt\u001b[24m`, ProcessExited(0))"
      ]
     },
     "execution_count": 3,
     "metadata": {},
     "output_type": "execute_result"
    }
   ],
   "source": [
    "filename = \"foo.txt\"\n",
    "run(`link README.rst $filename`)"
   ]
  },
  {
   "cell_type": "code",
   "execution_count": 4,
   "metadata": {},
   "outputs": [
    {
     "name": "stdout",
     "output_type": "stream",
     "text": [
      "-rw-r--r-- 2 ninjaaron ninjaaron 7,7K Jan 26 14:50 foo.txt\n"
     ]
    },
    {
     "data": {
      "text/plain": [
       "Process(`\u001b[4mls\u001b[24m \u001b[4m-lh\u001b[24m \u001b[4mfoo.txt\u001b[24m`, ProcessExited(0))"
      ]
     },
     "execution_count": 4,
     "metadata": {},
     "output_type": "execute_result"
    }
   ],
   "source": [
    "run(`ls -lh $filename`)"
   ]
  },
  {
   "cell_type": "markdown",
   "metadata": {},
   "source": [
    "What actually happened here? Obviously we ran the `link` executable and the `ls` executable on the local system, but maybe not in the way you'd expect in other languages, the default methods for running commands _generally_ create a subshell and execute your input there. In Julia, commands never get a shell. As far as I know, the only way to give a command a shell would be to do so explicitely, something like `bash -c echo \"my injection vulnerability\"`, but you really don't need a shell, so that's fine. What Julia's command literals do is pass the string to parser for a shell-like mini-language, which converts the command into a vector of strings which will ultimately be handed to one of the OS's `exec` familiy of functions--on \\*nix. I don't know how these things happen on Windows.\n",
    "\n",
    "The result is that running commands in Julia is safe and secure by default because the shell never has the chance to do horrible things with user input.\n",
    "\n",
    "What's more, while Julia's shell mini-language resembles POSIX syntax on a surface level, it is actually much saner and safer. It's very easy to convert a working Bash script to Julia, but the result will usually be safer in the end, which you can't say in most languages! For example, in a Bash script, you should not really do this:\n",
    "\n",
    "```bash\n",
    "link README.rst $filename\n",
    "```\n",
    "\n",
    "You should always put double quotes around the variable, because otherwise it will be expanded into multiple arguments on whitespace. However, in Julia, interpolated strings are never expanded in this way. Some things are expanded, however: iterables"
   ]
  },
  {
   "cell_type": "code",
   "execution_count": 5,
   "metadata": {},
   "outputs": [
    {
     "data": {
      "text/plain": [
       "`\u001b[4mecho\u001b[24m \u001b[4m1\u001b[24m \u001b[4m2\u001b[24m \u001b[4m3\u001b[24m \u001b[4m4\u001b[24m \u001b[4m5\u001b[24m \u001b[4m6\u001b[24m \u001b[4m7\u001b[24m \u001b[4m8\u001b[24m \u001b[4m9\u001b[24m \u001b[4m10\u001b[24m`"
      ]
     },
     "execution_count": 5,
     "metadata": {},
     "output_type": "execute_result"
    }
   ],
   "source": [
    "`echo $(1:10)`"
   ]
  },
  {
   "cell_type": "markdown",
   "metadata": {},
   "source": [
    "As you can see, this is expanded by Julia before the command is even run. These can also combine with other elements to make Cartesian products in a way similar to how brace expansion works in the shell:"
   ]
  },
  {
   "cell_type": "code",
   "execution_count": 6,
   "metadata": {},
   "outputs": [
    {
     "data": {
      "text/plain": [
       "`\u001b[4m./file1\u001b[24m \u001b[4m./file2\u001b[24m \u001b[4m./file3\u001b[24m \u001b[4m./file4\u001b[24m \u001b[4m./file5\u001b[24m \u001b[4m./file6\u001b[24m \u001b[4m./file7\u001b[24m \u001b[4m./file8\u001b[24m \u001b[4m./file9\u001b[24m \u001b[4m./file10\u001b[24m`"
      ]
     },
     "execution_count": 6,
     "metadata": {},
     "output_type": "execute_result"
    }
   ],
   "source": [
    "`./file$(1:10)`"
   ]
  },
  {
   "cell_type": "code",
   "execution_count": 7,
   "metadata": {},
   "outputs": [
    {
     "data": {
      "text/plain": [
       "`\u001b[4mfoo1\u001b[24m \u001b[4mfoo2\u001b[24m \u001b[4mfoo3\u001b[24m \u001b[4mbar1\u001b[24m \u001b[4mbar2\u001b[24m \u001b[4mbar3\u001b[24m \u001b[4mbaz1\u001b[24m \u001b[4mbaz2\u001b[24m \u001b[4mbaz3\u001b[24m`"
      ]
     },
     "execution_count": 7,
     "metadata": {},
     "output_type": "execute_result"
    }
   ],
   "source": [
    "words = [\"foo\", \"bar\", \"baz\"]\n",
    "numbers = 1:3\n",
    "`$words$numbers`"
   ]
  },
  {
   "cell_type": "markdown",
   "metadata": {},
   "source": [
    "As seen in some of these examples, using a `$()` inside of a command doesn't do process substitution as in the shell, it does, uh, \"Julia substitution,\" as it would in a Julia string--aside from the expansion of iterables.\n",
    "\n",
    "Julia has some other nice, logical features around commands. For example, when a process exits with a non-zero exit code in Bash, the script just tries to keep going and do who know's what. Same goes for starting processes in most other languages. That's just silly, and Julia knows it."
   ]
  },
  {
   "cell_type": "code",
   "execution_count": 8,
   "metadata": {},
   "outputs": [
    {
     "name": "stderr",
     "output_type": "stream",
     "text": [
      "link: cannot create link 'foo.txt' to 'README.rst': File exists\n"
     ]
    },
    {
     "ename": "ErrorException",
     "evalue": "failed process: Process(`link README.rst foo.txt`, ProcessExited(1)) [1]",
     "output_type": "error",
     "traceback": [
      "failed process: Process(`link README.rst foo.txt`, ProcessExited(1)) [1]",
      "",
      "Stacktrace:",
      " [1] error(::String, ::Base.Process, ::String, ::Int64, ::String) at ./error.jl:42",
      " [2] pipeline_error at ./process.jl:785 [inlined]",
      " [3] #run#515(::Bool, ::Function, ::Cmd) at ./process.jl:726",
      " [4] run(::Cmd) at ./process.jl:724",
      " [5] top-level scope at In[8]:1"
     ]
    }
   ],
   "source": [
    "run(`link README.rst $filename`)"
   ]
  },
  {
   "cell_type": "markdown",
   "metadata": {},
   "source": [
    "That's right: Finished processes raise an error when there is a non-zero exit status in the general case. Why doesn't every other language do this by default? No idea. There are cases where you don't want this, like if you're using `grep`, for example. `grep` exits 1 if no matches were found, which isn't exactly an error.\n",
    "\n",
    "You can avoid it by passing additional arguments to the `Cmd` constructor."
   ]
  },
  {
   "cell_type": "code",
   "execution_count": 9,
   "metadata": {},
   "outputs": [
    {
     "name": "stderr",
     "output_type": "stream",
     "text": [
      "link: cannot create link 'foo.txt' to 'README.rst': File exists\n"
     ]
    },
    {
     "data": {
      "text/plain": [
       "Process(`\u001b[4mlink\u001b[24m \u001b[4mREADME.rst\u001b[24m \u001b[4mfoo.txt\u001b[24m`, ProcessExited(1))"
      ]
     },
     "execution_count": 9,
     "metadata": {},
     "output_type": "execute_result"
    }
   ],
   "source": [
    "run(Cmd(`link README.rst $filename`, ignorestatus=true))"
   ]
  },
  {
   "cell_type": "markdown",
   "metadata": {},
   "source": [
    "So the error message still goes to stderr, because it's from the process itself, but it prevents a non-zero exit status from throwing an error.\n",
    "\n",
    "Another nice feature that show that the Julia developers \"get it\" when it comes to processes, is that basically any function that can be applied to a file can be applied to a command literal."
   ]
  },
  {
   "cell_type": "code",
   "execution_count": 10,
   "metadata": {},
   "outputs": [
    {
     "data": {
      "text/plain": [
       "6-element Array{String,1}:\n",
       " \"CLI.ipynb\"       \n",
       " \"files.ipynb\"     \n",
       " \"filesystem.ipynb\"\n",
       " \"foo.txt\"         \n",
       " \"processes.ipynb\" \n",
       " \"README.rst\"      "
      ]
     },
     "execution_count": 10,
     "metadata": {},
     "output_type": "execute_result"
    }
   ],
   "source": [
    "readlines(`ls`)"
   ]
  },
  {
   "cell_type": "code",
   "execution_count": 11,
   "metadata": {},
   "outputs": [
    {
     "name": "stdout",
     "output_type": "stream",
     "text": [
      "FOO\n"
     ]
    }
   ],
   "source": [
    "open(`tr a-z A-Z`, \"w\", stdout) do io\n",
    "    println(io, \"foo\")\n",
    "end"
   ]
  },
  {
   "cell_type": "markdown",
   "metadata": {},
   "source": [
    "Julia also supports pipelines, of course, but not with the pipe operator, `|`. Instead, one uses the `pipeline` function, which is also useful if you want to do more complex IO things. Rather than cover all this here, I will once again direct the reader to the [documentation](https://docs.julialang.org/en/v1/manual/running-external-programs/#Pipelines-1), where it is all laied out very clearly.\n",
    "\n",
    "Word of warning to the reader: while it's wonderful that it's so easy and safe to work with processes in Julia, keep in mind that starting a process is very expensive for the OS relative t executing code in the current process. Particularly inside of hot loops, You should look for a way to do what you need directly in Julia first, and only resort to calling process when there is no apparent way to do the needful natively. It is so much slower.\n",
    "\n",
    "One place where someone with a background writing shell scripts in other languages, but not as much experience in other languages might be tempted to use for string filtering utilities in coreutils--sed, grep, awk, etc. This would usually be a no-no, so the next section will provide a quick introduction about how to do the kinds of things you frequently do with those tools using Julia's regular expressions."
   ]
  },
  {
   "cell_type": "code",
   "execution_count": 12,
   "metadata": {},
   "outputs": [],
   "source": [
    "rm(\"foo.txt\")"
   ]
  }
 ],
 "metadata": {
  "kernelspec": {
   "display_name": "Julia 1.1.0",
   "language": "julia",
   "name": "julia-1.1"
  },
  "language_info": {
   "file_extension": ".jl",
   "mimetype": "application/julia",
   "name": "julia",
   "version": "1.1.0"
  }
 },
 "nbformat": 4,
 "nbformat_minor": 2
}
